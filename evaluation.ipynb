{
 "cells": [
  {
   "cell_type": "code",
   "execution_count": 1,
   "metadata": {
    "colab": {},
    "colab_type": "code",
    "id": "r1NmejTIFPtf"
   },
   "outputs": [],
   "source": [
    "#Dependencies\n",
    "import pandas as pd\n",
    "import numpy as np\n",
    "import tensorflow as tf\n",
    "import itertools\n",
    "import matplotlib.pyplot as plt\n",
    "import time\n",
    "\n",
    "from envs import OfflineEnv\n",
    "from recommender import DRRAgent\n",
    "\n",
    "import os\n",
    "\n",
    "ROOT_DIR = os.getcwd()\n",
    "DATA_DIR = os.path.join(ROOT_DIR, 'ml-1m/')\n",
    "STATE_SIZE = 10"
   ]
  },
  {
   "cell_type": "code",
   "execution_count": 2,
   "metadata": {
    "colab": {},
    "colab_type": "code",
    "id": "r1NmejTIFPtf",
    "scrolled": false
   },
   "outputs": [],
   "source": [
    "def evaluate(recommender, env, top_k=False):\n",
    "\n",
    "        recommender.load_model('/home/diominor/Workspace/DRR/save_weights/actor_50000.h5', '/home/diominor/Workspace/DRR/save_weights/critic_50000.h5')\n",
    "\n",
    "        # episodic reward 리셋\n",
    "        episode_reward = 0\n",
    "        correct_count = 0\n",
    "        steps = 0\n",
    "        # Environment 리셋\n",
    "        user_id, items_ids, done = env.reset()\n",
    "        print(f'user_id : {user_id}, rated_items_length:{len(env.user_items)}')\n",
    "        print('items : \\n', np.array(env.get_items_names(items_ids)))\n",
    "        \n",
    "        while not done:\n",
    "            \n",
    "            # Observe current state & Find action\n",
    "            ## Embedding 해주기\n",
    "            user_id = tf.convert_to_tensor(user_id)\n",
    "            items_ids = tf.convert_to_tensor(items_ids)\n",
    "            user_eb, items_eb = recommender.actor.embedding_network(user_id, items_ids)\n",
    "            user_eb = tf.reshape(user_eb, (1,1, *user_eb.shape))\n",
    "            items_eb = tf.reshape(items_eb, (1,*items_eb.shape))\n",
    "            ## Action(ranking score) 출력\n",
    "            action, _ = recommender.actor.network(user_eb, items_eb)\n",
    "            ## Item 추천\n",
    "            recommended_item = recommender.actor.recommend_item(action, env.recommended_items, top_k=top_k, is_test=True)\n",
    "            print(f'recommended items ids : {recommended_item}')\n",
    "            print(f'recommened items : \\n {np.array(env.get_items_names(recommended_item), dtype=object)}')\n",
    "            # Calculate reward & observe new state (in env)\n",
    "            ## Step\n",
    "            next_items_ids, reward, done, _ = env.step(recommended_item, top_k=top_k)\n",
    "            items_ids = next_items_ids\n",
    "            episode_reward += reward\n",
    "            steps += 1\n",
    "            if reward > 0:\n",
    "                correct_count += 1\n",
    "                print('GOT IT!!!!')\n",
    "            print()  \n",
    "\n",
    "        print(f'precision : {correct_count/steps}, episode_reward : {episode_reward}')\n",
    "        print()"
   ]
  },
  {
   "cell_type": "code",
   "execution_count": 2,
   "metadata": {
    "colab": {},
    "colab_type": "code",
    "id": "b8aPaxXpNsz7",
    "scrolled": true
   },
   "outputs": [],
   "source": [
    "#Loading datasets\n",
    "ratings_list = [i.strip().split(\"::\") for i in open(os.path.join(DATA_DIR,'ratings.dat'), 'r').readlines()]\n",
    "users_list = [i.strip().split(\"::\") for i in open(os.path.join(DATA_DIR,'users.dat'), 'r').readlines()]\n",
    "movies_list = [i.strip().split(\"::\") for i in open(os.path.join(DATA_DIR,'movies.dat'),encoding='latin-1').readlines()]\n",
    "ratings_df = pd.DataFrame(ratings_list, columns = ['UserID', 'MovieID', 'Rating', 'Timestamp'], dtype = np.uint32)\n",
    "movies_df = pd.DataFrame(movies_list, columns = ['MovieID', 'Title', 'Genres'])\n",
    "movies_df['MovieID'] = movies_df['MovieID'].apply(pd.to_numeric)"
   ]
  },
  {
   "cell_type": "code",
   "execution_count": 3,
   "metadata": {
    "scrolled": true
   },
   "outputs": [],
   "source": [
    "# 영화 id를 영화 제목으로\n",
    "movies_id_to_movies = {movie[0]: movie[1:] for movie in movies_list}"
   ]
  },
  {
   "cell_type": "code",
   "execution_count": 4,
   "metadata": {},
   "outputs": [
    {
     "data": {
      "text/plain": [
       "3883"
      ]
     },
     "execution_count": 4,
     "metadata": {},
     "output_type": "execute_result"
    }
   ],
   "source": [
    "len(movies_list)"
   ]
  },
  {
   "cell_type": "code",
   "execution_count": 5,
   "metadata": {},
   "outputs": [
    {
     "data": {
      "text/html": [
       "<div>\n",
       "<style scoped>\n",
       "    .dataframe tbody tr th:only-of-type {\n",
       "        vertical-align: middle;\n",
       "    }\n",
       "\n",
       "    .dataframe tbody tr th {\n",
       "        vertical-align: top;\n",
       "    }\n",
       "\n",
       "    .dataframe thead th {\n",
       "        text-align: right;\n",
       "    }\n",
       "</style>\n",
       "<table border=\"1\" class=\"dataframe\">\n",
       "  <thead>\n",
       "    <tr style=\"text-align: right;\">\n",
       "      <th></th>\n",
       "      <th>UserID</th>\n",
       "      <th>MovieID</th>\n",
       "      <th>Rating</th>\n",
       "      <th>Timestamp</th>\n",
       "    </tr>\n",
       "  </thead>\n",
       "  <tbody>\n",
       "    <tr>\n",
       "      <th>0</th>\n",
       "      <td>1</td>\n",
       "      <td>1193</td>\n",
       "      <td>5</td>\n",
       "      <td>978300760</td>\n",
       "    </tr>\n",
       "    <tr>\n",
       "      <th>1</th>\n",
       "      <td>1</td>\n",
       "      <td>661</td>\n",
       "      <td>3</td>\n",
       "      <td>978302109</td>\n",
       "    </tr>\n",
       "    <tr>\n",
       "      <th>2</th>\n",
       "      <td>1</td>\n",
       "      <td>914</td>\n",
       "      <td>3</td>\n",
       "      <td>978301968</td>\n",
       "    </tr>\n",
       "    <tr>\n",
       "      <th>3</th>\n",
       "      <td>1</td>\n",
       "      <td>3408</td>\n",
       "      <td>4</td>\n",
       "      <td>978300275</td>\n",
       "    </tr>\n",
       "    <tr>\n",
       "      <th>4</th>\n",
       "      <td>1</td>\n",
       "      <td>2355</td>\n",
       "      <td>5</td>\n",
       "      <td>978824291</td>\n",
       "    </tr>\n",
       "  </tbody>\n",
       "</table>\n",
       "</div>"
      ],
      "text/plain": [
       "  UserID MovieID Rating  Timestamp\n",
       "0      1    1193      5  978300760\n",
       "1      1     661      3  978302109\n",
       "2      1     914      3  978301968\n",
       "3      1    3408      4  978300275\n",
       "4      1    2355      5  978824291"
      ]
     },
     "execution_count": 5,
     "metadata": {},
     "output_type": "execute_result"
    }
   ],
   "source": [
    "ratings_df.head(5)"
   ]
  },
  {
   "cell_type": "code",
   "execution_count": 6,
   "metadata": {},
   "outputs": [],
   "source": [
    "# # 사용자가 선택한 영화 분포 확인\n",
    "# plt.figure(figsize=(20,10))\n",
    "# plt.hist(ratings_df[\"MovieID\"], bins=3883)\n",
    "# plt.show()"
   ]
  },
  {
   "cell_type": "code",
   "execution_count": 7,
   "metadata": {},
   "outputs": [
    {
     "data": {
      "text/plain": [
       "UserID       0\n",
       "MovieID      0\n",
       "Rating       0\n",
       "Timestamp    0\n",
       "dtype: int64"
      ]
     },
     "execution_count": 7,
     "metadata": {},
     "output_type": "execute_result"
    }
   ],
   "source": [
    "# 결측치 확인\n",
    "ratings_df.isnull().sum()"
   ]
  },
  {
   "cell_type": "code",
   "execution_count": 8,
   "metadata": {
    "scrolled": true
   },
   "outputs": [
    {
     "name": "stdout",
     "output_type": "stream",
     "text": [
      "True\n",
      "6040\n"
     ]
    }
   ],
   "source": [
    "# 최대값 확인\n",
    "print(len(set(ratings_df[\"UserID\"])) == max([int(i) for i in set(ratings_df[\"UserID\"])]))\n",
    "print(max([int(i) for i in set(ratings_df[\"UserID\"])]))"
   ]
  },
  {
   "cell_type": "code",
   "execution_count": 9,
   "metadata": {},
   "outputs": [],
   "source": [
    "ratings_df = ratings_df.applymap(int)"
   ]
  },
  {
   "cell_type": "code",
   "execution_count": 10,
   "metadata": {},
   "outputs": [
    {
     "data": {
      "text/plain": [
       "[]"
      ]
     },
     "execution_count": 10,
     "metadata": {},
     "output_type": "execute_result"
    }
   ],
   "source": [
    "# 유저별로 본 영화들 순서대로 정리\n",
    "users_dict = {user : [] for user in set(ratings_df[\"UserID\"])}\n",
    "users_dict[1]"
   ]
  },
  {
   "cell_type": "code",
   "execution_count": 11,
   "metadata": {},
   "outputs": [
    {
     "data": {
      "text/html": [
       "<div>\n",
       "<style scoped>\n",
       "    .dataframe tbody tr th:only-of-type {\n",
       "        vertical-align: middle;\n",
       "    }\n",
       "\n",
       "    .dataframe tbody tr th {\n",
       "        vertical-align: top;\n",
       "    }\n",
       "\n",
       "    .dataframe thead th {\n",
       "        text-align: right;\n",
       "    }\n",
       "</style>\n",
       "<table border=\"1\" class=\"dataframe\">\n",
       "  <thead>\n",
       "    <tr style=\"text-align: right;\">\n",
       "      <th></th>\n",
       "      <th>UserID</th>\n",
       "      <th>MovieID</th>\n",
       "      <th>Rating</th>\n",
       "      <th>Timestamp</th>\n",
       "    </tr>\n",
       "  </thead>\n",
       "  <tbody>\n",
       "    <tr>\n",
       "      <th>1000138</th>\n",
       "      <td>6040</td>\n",
       "      <td>858</td>\n",
       "      <td>4</td>\n",
       "      <td>956703932</td>\n",
       "    </tr>\n",
       "    <tr>\n",
       "      <th>1000153</th>\n",
       "      <td>6040</td>\n",
       "      <td>2384</td>\n",
       "      <td>4</td>\n",
       "      <td>956703954</td>\n",
       "    </tr>\n",
       "    <tr>\n",
       "      <th>999873</th>\n",
       "      <td>6040</td>\n",
       "      <td>593</td>\n",
       "      <td>5</td>\n",
       "      <td>956703954</td>\n",
       "    </tr>\n",
       "    <tr>\n",
       "      <th>1000007</th>\n",
       "      <td>6040</td>\n",
       "      <td>1961</td>\n",
       "      <td>4</td>\n",
       "      <td>956703977</td>\n",
       "    </tr>\n",
       "    <tr>\n",
       "      <th>1000192</th>\n",
       "      <td>6040</td>\n",
       "      <td>2019</td>\n",
       "      <td>5</td>\n",
       "      <td>956703977</td>\n",
       "    </tr>\n",
       "  </tbody>\n",
       "</table>\n",
       "</div>"
      ],
      "text/plain": [
       "         UserID  MovieID  Rating  Timestamp\n",
       "1000138    6040      858       4  956703932\n",
       "1000153    6040     2384       4  956703954\n",
       "999873     6040      593       5  956703954\n",
       "1000007    6040     1961       4  956703977\n",
       "1000192    6040     2019       5  956703977"
      ]
     },
     "execution_count": 11,
     "metadata": {},
     "output_type": "execute_result"
    }
   ],
   "source": [
    "# 시간 순으로 정렬하기\n",
    "ratings_df = ratings_df.sort_values(by='Timestamp', ascending=True)\n",
    "ratings_df.head(5)"
   ]
  },
  {
   "cell_type": "code",
   "execution_count": 12,
   "metadata": {},
   "outputs": [],
   "source": [
    "# 유저 딕셔너리에 (영화, 평점)쌍 넣기\n",
    "# 각 유저별 영화 히스토리 길이를 평점 4이상인 영화만 카운트\n",
    "ratings_df_gen = ratings_df.iterrows()\n",
    "users_dict_for_history_len = {user : [] for user in set(ratings_df[\"UserID\"])}\n",
    "for data in ratings_df_gen:\n",
    "    users_dict[data[1]['UserID']].append((data[1]['MovieID'], data[1]['Rating']))\n",
    "    if data[1]['Rating'] >= 4:\n",
    "        users_dict_for_history_len[data[1]['UserID']].append((data[1]['MovieID'], data[1]['Rating']))"
   ]
  },
  {
   "cell_type": "code",
   "execution_count": 13,
   "metadata": {
    "scrolled": true
   },
   "outputs": [],
   "source": [
    "# 각 유저별 영화 히스토리 길이\n",
    "users_history_lens = [len(users_dict_for_history_len[u]) for u in set(ratings_df[\"UserID\"])]"
   ]
  },
  {
   "cell_type": "code",
   "execution_count": 14,
   "metadata": {
    "scrolled": true
   },
   "outputs": [
    {
     "data": {
      "text/plain": [
       "[(3186, 4),\n",
       " (1721, 4),\n",
       " (1270, 5),\n",
       " (1022, 5),\n",
       " (2340, 3),\n",
       " (1836, 5),\n",
       " (3408, 4),\n",
       " (1207, 4),\n",
       " (2804, 5),\n",
       " (260, 4),\n",
       " (720, 3),\n",
       " (1193, 5),\n",
       " (919, 4),\n",
       " (608, 4),\n",
       " (2692, 4),\n",
       " (1961, 5),\n",
       " (2028, 5),\n",
       " (3105, 5),\n",
       " (938, 4),\n",
       " (1035, 5),\n",
       " (1962, 4),\n",
       " (1028, 5),\n",
       " (2018, 4),\n",
       " (150, 5),\n",
       " (1097, 4),\n",
       " (914, 3),\n",
       " (1287, 5),\n",
       " (2797, 4),\n",
       " (1246, 4),\n",
       " (2762, 4),\n",
       " (661, 3),\n",
       " (2918, 4),\n",
       " (531, 4),\n",
       " (3114, 4),\n",
       " (2791, 4),\n",
       " (1029, 5),\n",
       " (2321, 3),\n",
       " (1197, 3),\n",
       " (594, 4),\n",
       " (2398, 4),\n",
       " (1545, 4),\n",
       " (527, 5),\n",
       " (745, 3),\n",
       " (595, 5),\n",
       " (588, 4),\n",
       " (1, 5),\n",
       " (2687, 3),\n",
       " (783, 4),\n",
       " (2294, 4),\n",
       " (2355, 5),\n",
       " (1907, 4),\n",
       " (1566, 4),\n",
       " (48, 5)]"
      ]
     },
     "execution_count": 14,
     "metadata": {},
     "output_type": "execute_result"
    }
   ],
   "source": [
    "users_dict[1]"
   ]
  },
  {
   "cell_type": "code",
   "execution_count": 29,
   "metadata": {},
   "outputs": [],
   "source": [
    "np.save(\"./data/user_dict.npy\", users_dict)\n",
    "np.save(\"./data/users_histroy_len.npy\", users_history_lens)"
   ]
  },
  {
   "cell_type": "code",
   "execution_count": 15,
   "metadata": {},
   "outputs": [],
   "source": [
    "users_num = max(ratings_df[\"UserID\"])+1\n",
    "items_num = max(ratings_df[\"MovieID\"])+1"
   ]
  },
  {
   "cell_type": "code",
   "execution_count": 16,
   "metadata": {
    "scrolled": false
   },
   "outputs": [
    {
     "name": "stdout",
     "output_type": "stream",
     "text": [
      "6041 3953\n"
     ]
    }
   ],
   "source": [
    "print(users_num, items_num)"
   ]
  },
  {
   "cell_type": "markdown",
   "metadata": {},
   "source": [
    "### Training setting"
   ]
  },
  {
   "cell_type": "code",
   "execution_count": 18,
   "metadata": {},
   "outputs": [
    {
     "name": "stdout",
     "output_type": "stream",
     "text": [
      "4832 3953\n"
     ]
    }
   ],
   "source": [
    "train_users_num = int(users_num * 0.8)\n",
    "train_items_num = items_num\n",
    "print(train_users_num, train_items_num)"
   ]
  },
  {
   "cell_type": "code",
   "execution_count": 19,
   "metadata": {},
   "outputs": [
    {
     "name": "stdout",
     "output_type": "stream",
     "text": [
      "4832 4832\n"
     ]
    }
   ],
   "source": [
    "train_users_dict = {k:users_dict[k] for k in range(1, train_users_num+1)}\n",
    "train_users_history_lens = users_history_lens[:train_users_num]\n",
    "print(len(train_users_dict),len(train_users_history_lens))"
   ]
  },
  {
   "cell_type": "markdown",
   "metadata": {},
   "source": [
    "### Evaluating setting"
   ]
  },
  {
   "cell_type": "code",
   "execution_count": 20,
   "metadata": {},
   "outputs": [
    {
     "name": "stdout",
     "output_type": "stream",
     "text": [
      "1208 3953\n"
     ]
    }
   ],
   "source": [
    "eval_users_num = int(users_num * 0.2)\n",
    "eval_items_num = items_num\n",
    "print(eval_users_num, eval_items_num)"
   ]
  },
  {
   "cell_type": "code",
   "execution_count": 21,
   "metadata": {},
   "outputs": [
    {
     "name": "stdout",
     "output_type": "stream",
     "text": [
      "1208 1208\n"
     ]
    }
   ],
   "source": [
    "eval_users_dict = {k:users_dict[k] for k in range(users_num-eval_users_num, users_num)}\n",
    "eval_users_history_lens = users_history_lens[-eval_users_num:]\n",
    "print(len(eval_users_dict),len(eval_users_history_lens))"
   ]
  },
  {
   "cell_type": "markdown",
   "metadata": {},
   "source": [
    "### 준비된것\n",
    "users_dict, users_history_len, movies_id_to_movies, sers_num, items_num"
   ]
  },
  {
   "cell_type": "markdown",
   "metadata": {},
   "source": [
    "### Evalutation"
   ]
  },
  {
   "cell_type": "code",
   "execution_count": 22,
   "metadata": {},
   "outputs": [],
   "source": [
    "tf.keras.backend.set_floatx('float64')"
   ]
  },
  {
   "cell_type": "code",
   "execution_count": 49,
   "metadata": {
    "scrolled": false
   },
   "outputs": [
    {
     "name": "stdout",
     "output_type": "stream",
     "text": [
      "user_id : 4619, rated_items_length:153\n",
      "items : \n",
      " [['Angels and Insects (1995)' 'Drama|Romance']\n",
      " ['Groundhog Day (1993)' 'Comedy|Romance']\n",
      " ['Silence of the Lambs, The (1991)' 'Drama|Thriller']\n",
      " ['Soul Man (1986)' 'Comedy']\n",
      " ['Seventh Sign, The (1988)' 'Thriller']\n",
      " ['Godfather, The (1972)' 'Action|Crime|Drama']\n",
      " ['American Beauty (1999)' 'Comedy|Drama']\n",
      " ['Being John Malkovich (1999)' 'Comedy']\n",
      " ['Fight Club (1999)' 'Drama']\n",
      " ['Man on the Moon (1999)' 'Comedy|Drama']]\n",
      "recommended items ids : [1590 3466 2720 2258  127]\n",
      "recommened items : \n",
      " [['Event Horizon (1997)' 'Action|Mystery|Sci-Fi|Thriller']\n",
      " ['Heart and Souls (1993)' 'Comedy|Fantasy']\n",
      " ['Inspector Gadget (1999)' \"Action|Adventure|Children's|Comedy\"]\n",
      " ['Master Ninja I (1984)' 'Action']\n",
      " ['Silence of the Palace, The (Saimt el Qusur) (1994)' 'Drama']]\n",
      "\n",
      "recommended items ids : [1292 1480 2879 3326 1849]\n",
      "recommened items : \n",
      " [['Being There (1979)' 'Comedy']\n",
      " [\"Smilla's Sense of Snow (1997)\" 'Action|Drama|Thriller']\n",
      " ['Operation Condor (Feiying gaiwak) (1990)' 'Action|Adventure|Comedy']\n",
      " ['What Planet Are You From? (2000)' 'Comedy|Sci-Fi']\n",
      " ['Prince Valiant (1997)' 'Adventure']]\n",
      "\n",
      "recommended items ids : [2311 1130 2956  406 3325]\n",
      "recommened items : \n",
      " [['2010 (1984)' 'Mystery|Sci-Fi']\n",
      " ['Howling, The (1980)' 'Horror']\n",
      " ['Someone to Watch Over Me (1987)' 'Action|Crime|Thriller']\n",
      " ['Federal Hill (1994)' 'Drama']\n",
      " ['Next Best Thing, The (2000)' 'Comedy|Drama']]\n",
      "\n",
      "recommended items ids : [3914 3089   57 2220 3315]\n",
      "recommened items : \n",
      " [['Broken Hearts Club, The (2000)' 'Drama']\n",
      " ['Bicycle Thief, The (Ladri di biciclette) (1948)' 'Drama']\n",
      " ['Home for the Holidays (1995)' 'Drama']\n",
      " ['Manxman, The (1929)' 'Drama']\n",
      " ['Happy Go Lovely (1951)' 'Musical']]\n",
      "\n",
      "recommended items ids : [  17 3097 3944 1132 3646]\n",
      "recommened items : \n",
      " [['Sense and Sensibility (1995)' 'Drama|Romance']\n",
      " ['Shop Around the Corner, The (1940)' 'Comedy|Romance']\n",
      " ['Bootmen (2000)' 'Comedy|Drama']\n",
      " ['Manon of the Spring (Manon des sources) (1986)' 'Drama']\n",
      " [\"Big Momma's House (2000)\" 'Comedy']]\n",
      "GOT IT!!!!\n",
      "\n",
      "recommended items ids : [3557 1453 3634  462  770]\n",
      "recommened items : \n",
      " [['Jennifer 8 (1992)' 'Thriller']\n",
      " ['Beautician and the Beast, The (1997)' 'Comedy|Romance']\n",
      " ['Seven Days in May (1964)' 'Thriller']\n",
      " ['Good Man in Africa, A (1994)' 'Action|Adventure']\n",
      " ['Costa Brava (1946)' 'Drama']]\n",
      "\n",
      "recommended items ids : [1597 2735 1921  620 1421]\n",
      "recommened items : \n",
      " [['Conspiracy Theory (1997)' 'Action|Mystery|Romance|Thriller']\n",
      " ['Golden Child, The (1986)' 'Action|Adventure|Comedy']\n",
      " ['Pi (1998)' 'Sci-Fi|Thriller']\n",
      " ['Scream of Stone (Schrei aus Stein) (1991)' 'Drama']\n",
      " ['Grateful Dead (1995)' 'Documentary']]\n",
      "\n",
      "recommended items ids : [2637 1624 3153 1220 1669]\n",
      "recommened items : \n",
      " [[\"Mummy's Hand, The (1940)\" 'Horror']\n",
      " ['Thousand Acres, A (1997)' 'Drama']\n",
      " ['7th Voyage of Sinbad, The (1958)' 'Action|Adventure|Fantasy']\n",
      " ['Blues Brothers, The (1980)' 'Action|Comedy|Musical']\n",
      " ['Tango Lesson, The (1997)' 'Romance']]\n",
      "\n",
      "recommended items ids : [3922 3937  821 2452 2987]\n",
      "recommened items : \n",
      " [['Bikini Beach (1964)' 'Comedy']\n",
      " ['Runaway (1984)' 'Sci-Fi|Thriller']\n",
      " ['Crude Oasis, The (1995)' 'Romance']\n",
      " ['Gate II: Trespassers, The (1990)' 'Horror']\n",
      " ['Who Framed Roger Rabbit? (1988)' 'Adventure|Animation|Film-Noir']]\n",
      "\n",
      "recommended items ids : [1807 2542 2025 1210 2054]\n",
      "recommened items : \n",
      " [['Cool Dry Place, A (1998)' 'Drama']\n",
      " ['Lock, Stock & Two Smoking Barrels (1998)' 'Comedy|Crime|Thriller']\n",
      " ['Lolita (1997)' 'Drama|Romance']\n",
      " ['Star Wars: Episode VI - Return of the Jedi (1983)'\n",
      "  'Action|Adventure|Romance|Sci-Fi|War']\n",
      " ['Honey, I Shrunk the Kids (1989)'\n",
      "  \"Adventure|Children's|Comedy|Fantasy|Sci-Fi\"]]\n",
      "\n",
      "recommended items ids : [2568 3249 2264 3431  183]\n",
      "recommened items : \n",
      " [['Mod Squad, The (1999)' 'Action|Crime']\n",
      " ['Hand That Rocks the Cradle, The (1992)' 'Thriller']\n",
      " [\"We're No Angels (1989)\" 'Drama']\n",
      " ['Death Wish II (1982)' 'Action|Drama']\n",
      " ['Mute Witness (1994)' 'Thriller']]\n",
      "\n",
      "recommended items ids : [3590 3710  565  336 2767]\n",
      "recommened items : \n",
      " [['Lords of Flatbush, The (1974)' 'Comedy']\n",
      " ['Action Jackson (1988)' 'Action|Comedy']\n",
      " ['Cronos (1992)' 'Horror']\n",
      " ['Walking Dead, The (1995)' 'Drama|War']\n",
      " ['Illuminata (1998)' 'Comedy']]\n",
      "\n",
      "recommended items ids : [1908 1129  520 1638 1309]\n",
      "recommened items : \n",
      " [list(['Resurrection Man (1998)', 'Drama|Thriller'])\n",
      " list(['Escape from New York (1981)', 'Action|Adventure|Sci-Fi|Thriller'])\n",
      " list(['Robin Hood: Men in Tights (1993)', 'Comedy'])\n",
      " list(['Not in list']) list(['Parallel Sons (1995)', 'Drama|Romance'])]\n",
      "\n",
      "recommended items ids : [1068  873 3365 3370 3413]\n",
      "recommened items : \n",
      " [['Crossfire (1947)' 'Crime|Film-Noir']\n",
      " ['Shadow of Angels (Schatten der Engel) (1976)' 'Drama']\n",
      " ['Searchers, The (1956)' 'Western']\n",
      " ['Betrayed (1988)' 'Drama|Thriller']\n",
      " ['Impact (1949)' 'Crime|Drama']]\n",
      "\n",
      "recommended items ids : [2599 1368 1584  225 1409]\n",
      "recommened items : \n",
      " [['Election (1999)' 'Comedy']\n",
      " ['Forbidden Christ, The (Cristo proibito, Il) (1950)' 'Drama']\n",
      " ['Contact (1997)' 'Drama|Sci-Fi']\n",
      " ['Disclosure (1994)' 'Drama|Thriller']\n",
      " ['Michael (1996)' 'Comedy|Romance']]\n",
      "\n",
      "recommended items ids : [ 391    7 1014 3501  414]\n",
      "recommened items : \n",
      " [[\"Jason's Lyric (1994)\" 'Crime|Drama']\n",
      " ['Sabrina (1995)' 'Comedy|Romance']\n",
      " ['Pollyanna (1960)' \"Children's|Comedy|Drama\"]\n",
      " [\"Murphy's Romance (1985)\" 'Comedy|Romance']\n",
      " ['Air Up There, The (1994)' 'Comedy']]\n",
      "\n",
      "recommended items ids : [3234 1715 1714 1024 2682]\n",
      "recommened items : \n",
      " [['Train Ride to Hollywood (1978)' 'Comedy']\n",
      " ['Office Killer (1997)' 'Thriller']\n",
      " ['Never Met Picasso (1996)' 'Romance']\n",
      " ['Three Caballeros, The (1945)' \"Animation|Children's|Musical\"]\n",
      " ['Limbo (1999)' 'Drama']]\n",
      "\n",
      "recommended items ids : [1428 2888 2965  888  151]\n",
      "recommened items : \n",
      " [['Angel Baby (1995)' 'Drama']\n",
      " ['Drive Me Crazy (1999)' 'Comedy|Romance']\n",
      " ['Omega Code, The (1999)' 'Action']\n",
      " ['Land Before Time III: The Time of the Great Giving (1995)'\n",
      "  \"Animation|Children's\"]\n",
      " ['Rob Roy (1995)' 'Drama|Romance|War']]\n",
      "\n",
      "recommended items ids : [1400 3799 2615 2564 2423]\n",
      "recommened items : \n",
      " [['Somebody is Waiting (1996)' 'Drama']\n",
      " ['Pokémon the Movie 2000 (2000)' \"Animation|Children's\"]\n",
      " ['My Science Project (1985)' 'Adventure|Sci-Fi']\n",
      " ['Empty Mirror, The (1999)' 'Drama']\n",
      " ['Christmas Vacation (1989)' 'Comedy']]\n",
      "\n",
      "recommended items ids : [1530  455 3022 1254  266]\n",
      "recommened items : \n",
      " [list(['Not in list'])\n",
      " list(['Free Willy (1993)', \"Adventure|Children's|Drama\"])\n",
      " list(['General, The (1927)', 'Comedy'])\n",
      " list(['Treasure of the Sierra Madre, The (1948)', 'Adventure'])\n",
      " list(['Legends of the Fall (1994)', 'Drama|Romance|War|Western'])]\n",
      "\n",
      "recommended items ids : [ 702 1977  131  909 3715]\n",
      "recommened items : \n",
      " [['Faces (1968)' 'Drama']\n",
      " ['Friday the 13th: The Final Chapter (1984)' 'Horror']\n",
      " ['Frankie Starlight (1995)' 'Drama|Romance']\n",
      " ['Apartment, The (1960)' 'Comedy|Drama']\n",
      " ['Burglar (1987)' 'Comedy']]\n",
      "\n",
      "recommended items ids : [ 985 3023 1723 2613  459]\n",
      "recommened items : \n",
      " [['Small Wonders (1996)' 'Documentary']\n",
      " ['My Best Girl (1927)' 'Comedy|Romance']\n",
      " ['Twisted (1996)' 'Comedy|Drama']\n",
      " ['Night of the Comet (1984)' 'Action|Horror|Sci-Fi']\n",
      " ['Getaway, The (1994)' 'Action']]\n",
      "\n",
      "recommended items ids : [2838 2772 3190 2064 2954]\n",
      "recommened items : \n",
      " [['I Woke Up Early the Day I Died (1998)' 'Comedy']\n",
      " ['Detroit Rock City (1999)' 'Comedy']\n",
      " ['Supernova (2000)' 'Adventure|Sci-Fi']\n",
      " ['Roger & Me (1989)' 'Comedy|Documentary']\n",
      " ['Penitentiary (1979)' 'Drama']]\n",
      "\n",
      "recommended items ids : [1027 3412 1774  692   99]\n",
      "recommened items : \n",
      " [['Robin Hood: Prince of Thieves (1991)' 'Drama']\n",
      " ['Bear, The (1988)' 'Adventure']\n",
      " ['Mass Transit (1998)' 'Comedy|Drama']\n",
      " ['Solo (1996)' 'Action|Sci-Fi|Thriller']\n",
      " ['Heidi Fleiss: Hollywood Madam (1995)' 'Documentary']]\n",
      "\n",
      "recommended items ids : [1818 3428  428 2939 3294]\n",
      "recommened items : \n",
      " [list(['Not in list']) list(['Champ, The (1979)', 'Drama'])\n",
      " list(['Bronx Tale, A (1993)', 'Drama'])\n",
      " list(['Niagara (1953)', 'Drama|Thriller'])\n",
      " list(['Eaten Alive (1976)', 'Horror'])]\n",
      "\n",
      "recommended items ids : [ 468  543 3746 2305 1571]\n",
      "recommened items : \n",
      " [['Englishman Who Went Up a Hill, But Came Down a Mountain, The (1995)'\n",
      "  'Comedy|Romance']\n",
      " ['So I Married an Axe Murderer (1993)' 'Comedy|Romance|Thriller']\n",
      " ['Butterfly (La Lengua de las Mariposas) (2000)' 'Drama|War']\n",
      " ['Slam (1998)' 'Drama']\n",
      " ['When the Cats Away (Chacun cherche son chat) (1996)' 'Comedy|Romance']]\n",
      "GOT IT!!!!\n",
      "\n",
      "recommended items ids : [1293 1286 1877  864 2712]\n",
      "recommened items : \n",
      " [['Gandhi (1982)' 'Drama']\n",
      " ['Somewhere in Time (1980)' 'Drama|Romance']\n",
      " ['Little Men (1998)' 'Drama']\n",
      " ['Wife, The (1995)' 'Comedy|Drama']\n",
      " ['Eyes Wide Shut (1999)' 'Drama']]\n",
      "GOT IT!!!!\n",
      "\n"
     ]
    },
    {
     "name": "stdout",
     "output_type": "stream",
     "text": [
      "recommended items ids : [2353 1186 1078 2237 2829]\n",
      "recommened items : \n",
      " [['Enemy of the State (1998)' 'Action|Thriller']\n",
      " ['Sex, Lies, and Videotape (1989)' 'Drama']\n",
      " ['Bananas (1971)' 'Comedy|War']\n",
      " ['Without Limits (1998)' 'Drama']\n",
      " ['Muse, The (1999)' 'Comedy|Drama']]\n",
      "\n",
      "recommended items ids : [3078 1862 3913 2725 1948]\n",
      "recommened items : \n",
      " [['Liberty Heights (1999)' 'Drama']\n",
      " ['Species II (1998)' 'Horror|Sci-Fi']\n",
      " ['Barenaked in America (1999)' 'Documentary']\n",
      " ['Twin Falls Idaho (1999)' 'Drama']\n",
      " ['Tom Jones (1963)' 'Comedy']]\n",
      "\n",
      "precision : 0.10344827586206896, episode_reward : -21\n",
      "\n"
     ]
    }
   ],
   "source": [
    "env = OfflineEnv(train_users_dict, train_users_history_lens, movies_id_to_movies, STATE_SIZE)\n",
    "recommender = DRRAgent(env, users_num, items_num, STATE_SIZE)\n",
    "recommender.actor.build_networks()\n",
    "recommender.critic.build_networks()\n",
    "evaluate(recommender, env, top_k=5)"
   ]
  },
  {
   "cell_type": "code",
   "execution_count": null,
   "metadata": {},
   "outputs": [],
   "source": []
  },
  {
   "cell_type": "code",
   "execution_count": null,
   "metadata": {},
   "outputs": [],
   "source": []
  },
  {
   "cell_type": "code",
   "execution_count": null,
   "metadata": {},
   "outputs": [],
   "source": []
  },
  {
   "cell_type": "code",
   "execution_count": null,
   "metadata": {},
   "outputs": [],
   "source": []
  },
  {
   "cell_type": "code",
   "execution_count": null,
   "metadata": {},
   "outputs": [],
   "source": []
  }
 ],
 "metadata": {
  "colab": {
   "collapsed_sections": [],
   "include_colab_link": true,
   "machine_shape": "hm",
   "name": "RL_ActorCritic_DDPG_Movie_Recommendation.ipynb",
   "provenance": []
  },
  "kernelspec": {
   "display_name": "Python 3",
   "language": "python",
   "name": "python3"
  },
  "language_info": {
   "codemirror_mode": {
    "name": "ipython",
    "version": 3
   },
   "file_extension": ".py",
   "mimetype": "text/x-python",
   "name": "python",
   "nbconvert_exporter": "python",
   "pygments_lexer": "ipython3",
   "version": "3.8.5"
  }
 },
 "nbformat": 4,
 "nbformat_minor": 1
}
