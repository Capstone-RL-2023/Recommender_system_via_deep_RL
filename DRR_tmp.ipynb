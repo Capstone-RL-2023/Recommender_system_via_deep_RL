{
 "cells": [
  {
   "cell_type": "code",
   "execution_count": 6,
   "metadata": {
    "colab": {},
    "colab_type": "code",
    "id": "r1NmejTIFPtf",
    "scrolled": true
   },
   "outputs": [],
   "source": [
    "#Dependencies\n",
    "import pandas as pd\n",
    "import numpy as np\n",
    "import tensorflow as tf\n",
    "import itertools\n",
    "# import torch\n",
    "import matplotlib.pyplot as plt\n",
    "\n",
    "import os\n",
    "ROOT_DIR = os.getcwd()\n",
    "DATA_DIR = os.path.join(ROOT_DIR, 'ml-1m/')"
   ]
  },
  {
   "cell_type": "code",
   "execution_count": 54,
   "metadata": {
    "colab": {},
    "colab_type": "code",
    "id": "b8aPaxXpNsz7",
    "scrolled": true
   },
   "outputs": [],
   "source": [
    "#Loading datasets\n",
    "ratings_list = [i.strip().split(\"::\") for i in open(os.path.join(DATA_DIR,'ratings.dat'), 'r').readlines()]\n",
    "users_list = [i.strip().split(\"::\") for i in open(os.path.join(DATA_DIR,'users.dat'), 'r').readlines()]\n",
    "movies_list = [i.strip().split(\"::\") for i in open(os.path.join(DATA_DIR,'movies.dat'),encoding='latin-1').readlines()]\n",
    "ratings_df = pd.DataFrame(ratings_list, columns = ['UserID', 'MovieID', 'Rating', 'Timestamp'], dtype = np.uint32)\n",
    "movies_df = pd.DataFrame(movies_list, columns = ['MovieID', 'Title', 'Genres'])\n",
    "movies_df['MovieID'] = movies_df['MovieID'].apply(pd.to_numeric)"
   ]
  },
  {
   "cell_type": "code",
   "execution_count": 28,
   "metadata": {
    "scrolled": true
   },
   "outputs": [],
   "source": [
    "# 영화 id를 영화 제목으로\n",
    "movies_id_to_movies = {movie[0]: movie[1:] for movie in movies_list}"
   ]
  },
  {
   "cell_type": "code",
   "execution_count": 29,
   "metadata": {},
   "outputs": [
    {
     "data": {
      "text/plain": [
       "3883"
      ]
     },
     "execution_count": 29,
     "metadata": {},
     "output_type": "execute_result"
    }
   ],
   "source": [
    "len(movies_list)"
   ]
  },
  {
   "cell_type": "code",
   "execution_count": 30,
   "metadata": {},
   "outputs": [
    {
     "data": {
      "text/html": [
       "<div>\n",
       "<style scoped>\n",
       "    .dataframe tbody tr th:only-of-type {\n",
       "        vertical-align: middle;\n",
       "    }\n",
       "\n",
       "    .dataframe tbody tr th {\n",
       "        vertical-align: top;\n",
       "    }\n",
       "\n",
       "    .dataframe thead th {\n",
       "        text-align: right;\n",
       "    }\n",
       "</style>\n",
       "<table border=\"1\" class=\"dataframe\">\n",
       "  <thead>\n",
       "    <tr style=\"text-align: right;\">\n",
       "      <th></th>\n",
       "      <th>UserID</th>\n",
       "      <th>MovieID</th>\n",
       "      <th>Rating</th>\n",
       "      <th>Timestamp</th>\n",
       "    </tr>\n",
       "  </thead>\n",
       "  <tbody>\n",
       "    <tr>\n",
       "      <th>0</th>\n",
       "      <td>1</td>\n",
       "      <td>1193</td>\n",
       "      <td>5</td>\n",
       "      <td>978300760</td>\n",
       "    </tr>\n",
       "    <tr>\n",
       "      <th>1</th>\n",
       "      <td>1</td>\n",
       "      <td>661</td>\n",
       "      <td>3</td>\n",
       "      <td>978302109</td>\n",
       "    </tr>\n",
       "    <tr>\n",
       "      <th>2</th>\n",
       "      <td>1</td>\n",
       "      <td>914</td>\n",
       "      <td>3</td>\n",
       "      <td>978301968</td>\n",
       "    </tr>\n",
       "    <tr>\n",
       "      <th>3</th>\n",
       "      <td>1</td>\n",
       "      <td>3408</td>\n",
       "      <td>4</td>\n",
       "      <td>978300275</td>\n",
       "    </tr>\n",
       "    <tr>\n",
       "      <th>4</th>\n",
       "      <td>1</td>\n",
       "      <td>2355</td>\n",
       "      <td>5</td>\n",
       "      <td>978824291</td>\n",
       "    </tr>\n",
       "  </tbody>\n",
       "</table>\n",
       "</div>"
      ],
      "text/plain": [
       "  UserID MovieID Rating  Timestamp\n",
       "0      1    1193      5  978300760\n",
       "1      1     661      3  978302109\n",
       "2      1     914      3  978301968\n",
       "3      1    3408      4  978300275\n",
       "4      1    2355      5  978824291"
      ]
     },
     "execution_count": 30,
     "metadata": {},
     "output_type": "execute_result"
    }
   ],
   "source": [
    "ratings_df.head(5)"
   ]
  },
  {
   "cell_type": "code",
   "execution_count": 31,
   "metadata": {},
   "outputs": [
    {
     "data": {
      "image/png": "[encoded data removed]",
      "text/plain": [
       "<Figure size 1440x720 with 1 Axes>"
      ]
     },
     "metadata": {
      "needs_background": "light"
     },
     "output_type": "display_data"
    }
   ],
   "source": [
    "# 사용자가 선택한 영화 분포 확인\n",
    "plt.figure(figsize=(20,10))\n",
    "plt.hist(ratings_df[\"MovieID\"], bins=3883)\n",
    "plt.show()"
   ]
  },
  {
   "cell_type": "code",
   "execution_count": 32,
   "metadata": {},
   "outputs": [
    {
     "data": {
      "text/plain": [
       "UserID       0\n",
       "MovieID      0\n",
       "Rating       0\n",
       "Timestamp    0\n",
       "dtype: int64"
      ]
     },
     "execution_count": 32,
     "metadata": {},
     "output_type": "execute_result"
    }
   ],
   "source": [
    "# 결측치 확인\n",
    "ratings_df.isnull().sum()"
   ]
  },
  {
   "cell_type": "code",
   "execution_count": 69,
   "metadata": {
    "scrolled": true
   },
   "outputs": [
    {
     "name": "stdout",
     "output_type": "stream",
     "text": [
      "True\n",
      "6040\n"
     ]
    }
   ],
   "source": [
    "# 최대값 확인\n",
    "print(len(set(ratings_df[\"UserID\"])) == max([int(i) for i in set(ratings_df[\"UserID\"])]))\n",
    "print(max([int(i) for i in set(ratings_df[\"UserID\"])]))"
   ]
  },
  {
   "cell_type": "code",
   "execution_count": 70,
   "metadata": {},
   "outputs": [],
   "source": [
    "ratings_df = ratings_df.applymap(int)"
   ]
  },
  {
   "cell_type": "code",
   "execution_count": 78,
   "metadata": {},
   "outputs": [
    {
     "data": {
      "text/plain": [
       "[]"
      ]
     },
     "execution_count": 78,
     "metadata": {},
     "output_type": "execute_result"
    }
   ],
   "source": [
    "# 유저별로 본 영화들 순서대로 정리\n",
    "users_dict = {user : [] for user in set(ratings_df[\"UserID\"])}\n",
    "users_dict[1]"
   ]
  },
  {
   "cell_type": "code",
   "execution_count": 80,
   "metadata": {},
   "outputs": [
    {
     "data": {
      "text/html": [
       "<div>\n",
       "<style scoped>\n",
       "    .dataframe tbody tr th:only-of-type {\n",
       "        vertical-align: middle;\n",
       "    }\n",
       "\n",
       "    .dataframe tbody tr th {\n",
       "        vertical-align: top;\n",
       "    }\n",
       "\n",
       "    .dataframe thead th {\n",
       "        text-align: right;\n",
       "    }\n",
       "</style>\n",
       "<table border=\"1\" class=\"dataframe\">\n",
       "  <thead>\n",
       "    <tr style=\"text-align: right;\">\n",
       "      <th></th>\n",
       "      <th>UserID</th>\n",
       "      <th>MovieID</th>\n",
       "      <th>Rating</th>\n",
       "      <th>Timestamp</th>\n",
       "    </tr>\n",
       "  </thead>\n",
       "  <tbody>\n",
       "    <tr>\n",
       "      <th>1000138</th>\n",
       "      <td>6040</td>\n",
       "      <td>858</td>\n",
       "      <td>4</td>\n",
       "      <td>956703932</td>\n",
       "    </tr>\n",
       "    <tr>\n",
       "      <th>1000153</th>\n",
       "      <td>6040</td>\n",
       "      <td>2384</td>\n",
       "      <td>4</td>\n",
       "      <td>956703954</td>\n",
       "    </tr>\n",
       "    <tr>\n",
       "      <th>999873</th>\n",
       "      <td>6040</td>\n",
       "      <td>593</td>\n",
       "      <td>5</td>\n",
       "      <td>956703954</td>\n",
       "    </tr>\n",
       "    <tr>\n",
       "      <th>1000192</th>\n",
       "      <td>6040</td>\n",
       "      <td>2019</td>\n",
       "      <td>5</td>\n",
       "      <td>956703977</td>\n",
       "    </tr>\n",
       "    <tr>\n",
       "      <th>1000007</th>\n",
       "      <td>6040</td>\n",
       "      <td>1961</td>\n",
       "      <td>4</td>\n",
       "      <td>956703977</td>\n",
       "    </tr>\n",
       "  </tbody>\n",
       "</table>\n",
       "</div>"
      ],
      "text/plain": [
       "         UserID  MovieID  Rating  Timestamp\n",
       "1000138    6040      858       4  956703932\n",
       "1000153    6040     2384       4  956703954\n",
       "999873     6040      593       5  956703954\n",
       "1000192    6040     2019       5  956703977\n",
       "1000007    6040     1961       4  956703977"
      ]
     },
     "execution_count": 80,
     "metadata": {},
     "output_type": "execute_result"
    }
   ],
   "source": [
    "# 시간 순으로 정렬하기\n",
    "ratings_df = ratings_df.sort_values(by='Timestamp', ascending=True)\n",
    "ratings_df.head(5)"
   ]
  },
  {
   "cell_type": "code",
   "execution_count": 205,
   "metadata": {
    "scrolled": true
   },
   "outputs": [
    {
     "data": {
      "text/plain": [
       "[(3186, 4),\n",
       " (1270, 5),\n",
       " (1022, 5),\n",
       " (1721, 4),\n",
       " (2340, 3),\n",
       " (1836, 5),\n",
       " (3408, 4),\n",
       " (2804, 5),\n",
       " (1207, 4),\n",
       " (260, 4),\n",
       " (1193, 5),\n",
       " (720, 3),\n",
       " (919, 4),\n",
       " (608, 4),\n",
       " (2692, 4),\n",
       " (1961, 5),\n",
       " (2028, 5),\n",
       " (3105, 5),\n",
       " (938, 4),\n",
       " (1035, 5),\n",
       " (1962, 4),\n",
       " (150, 5),\n",
       " (2018, 4),\n",
       " (1028, 5),\n",
       " (1097, 4),\n",
       " (914, 3),\n",
       " (1287, 5),\n",
       " (2797, 4),\n",
       " (2762, 4),\n",
       " (1246, 4),\n",
       " (661, 3),\n",
       " (2918, 4),\n",
       " (531, 4),\n",
       " (3114, 4),\n",
       " (2791, 4),\n",
       " (2321, 3),\n",
       " (1029, 5),\n",
       " (594, 4),\n",
       " (1197, 3),\n",
       " (2398, 4),\n",
       " (1545, 4),\n",
       " (527, 5),\n",
       " (588, 4),\n",
       " (745, 3),\n",
       " (2687, 3),\n",
       " (1, 5),\n",
       " (595, 5),\n",
       " (2294, 4),\n",
       " (783, 4),\n",
       " (2355, 5),\n",
       " (1907, 4),\n",
       " (1566, 4),\n",
       " (48, 5)]"
      ]
     },
     "execution_count": 205,
     "metadata": {},
     "output_type": "execute_result"
    }
   ],
   "source": [
    "# 유저 딕셔너리에 (영화, 평점)쌍 넣기\n",
    "ratings_df_gen = ratings_df.iterrows()\n",
    "for data in ratings_df_gen:\n",
    "    users_dict[data[1]['UserID']].append((data[1]['MovieID'], data[1]['Rating']))\n",
    "users_dict[1]"
   ]
  },
  {
   "cell_type": "code",
   "execution_count": 208,
   "metadata": {},
   "outputs": [
    {
     "data": {
      "text/plain": [
       "[53, 129, 51, 21, 198, 71, 31, 139, 106, 401]"
      ]
     },
     "execution_count": 208,
     "metadata": {},
     "output_type": "execute_result"
    }
   ],
   "source": [
    "# 각 유저별 영화 히스토리 길이\n",
    "users_history_len = [len(users_dict[u]) for u in set(ratings_df[\"UserID\"])]\n",
    "users_history_len[:10]"
   ]
  },
  {
   "cell_type": "code",
   "execution_count": null,
   "metadata": {},
   "outputs": [],
   "source": [
    "# 준비된것\n",
    "## users_dict, users_history_len, movies_id_to_movies"
   ]
  },
  {
   "cell_type": "code",
   "execution_count": 283,
   "metadata": {},
   "outputs": [
    {
     "data": {
      "text/plain": [
       "[(3186, 4), (1270, 5), (1022, 5), (1721, 4), (2340, 3)]"
      ]
     },
     "execution_count": 283,
     "metadata": {},
     "output_type": "execute_result"
    }
   ],
   "source": [
    "users_dict[1][:5]"
   ]
  },
  {
   "cell_type": "code",
   "execution_count": 356,
   "metadata": {},
   "outputs": [],
   "source": [
    "class OfflineEnv(object):\n",
    "    \n",
    "    def __init__(self, users_dict, users_history_len, movies_id_to_movies, state_size, user_id=None):\n",
    "        \n",
    "        self.users_dict = users_dict\n",
    "        self.users_history_len = users_history_len\n",
    "        self.items_id_to_name = movies_id_to_movies\n",
    "        \n",
    "        self.state_size = state_size\n",
    "        self.available_users = self._generate_available_users()\n",
    "        \n",
    "        self.user = user_id if user_id else np.random.choice(self.available_users)\n",
    "        self.user_items = {data[0]:data[1] for data in self.users_dict[self.user]}\n",
    "        self.state = [data[0] for data in self.users_dict[self.user][:self.state_size]]\n",
    "        self.done = False\n",
    "        self.recommended_items = set(self.state)\n",
    "        \n",
    "    def _generate_available_users(self):\n",
    "        available_users = []\n",
    "        for i, length in enumerate(self.users_history_len):\n",
    "            if length > self.state_size:\n",
    "                available_users.append(i+1)\n",
    "        return available_users\n",
    "    \n",
    "    def reset(self, user_id=None):\n",
    "        self.user = user_id if user_id else np.random.choice(self.available_users)\n",
    "        self.state = [data[0] for data in self.users_dict[self.user][:self.state_size]]\n",
    "        self.done = False\n",
    "        self.recommended_items = set(self.state)\n",
    "        \n",
    "    def step(self, action):\n",
    "\n",
    "        reward = 0\n",
    "        \n",
    "        if action in self.user_items.keys() and action not in self.recommended_items:\n",
    "            reward = self.user_items[action] - 2  # reward function\n",
    "            del self.user_items[action]\n",
    "        \n",
    "        if reward > 0:\n",
    "            self.state = self.state[1:] + [action]\n",
    "        \n",
    "        self.recommended_items.add(action)\n",
    "        if self.user_items == {}:\n",
    "            self.done == True\n",
    "        \n",
    "        return self.state, reward, self.done, self.recommended_items"
   ]
  },
  {
   "cell_type": "code",
   "execution_count": 357,
   "metadata": {},
   "outputs": [],
   "source": [
    "env = OfflineEnv(users_dict, users_history_len, movies_id_to_movies, 10, user_id=None)"
   ]
  },
  {
   "cell_type": "markdown",
   "metadata": {
    "colab_type": "text",
    "id": "so-BkRxW8SPE"
   },
   "source": [
    "# State Representation Models"
   ]
  },
  {
   "cell_type": "code",
   "execution_count": null,
   "metadata": {},
   "outputs": [],
   "source": [
    "class Embedding(tf.keras.Model):\n",
    "    def __init__(self, users_num, items_num, embedding_dim):\n",
    "        super(Embedding, self).__init__()\n",
    "        self.user_eb = tf.keras.layers.Embedding(users_num, embedding_dim)\n",
    "        self.item_eb = tf.keras.layers.Embedding(items_num, embedding_dim)\n",
    "        \n",
    "    def call(self, user_id, items_ids):\n",
    "        return self.user_eb(user_id), self.item_eb(item_id)\n",
    "    \n",
    "    def _get_item_eb(self, items_ids):\n",
    "        return self.item_eb(items_ids)"
   ]
  },
  {
   "cell_type": "code",
   "execution_count": null,
   "metadata": {},
   "outputs": [],
   "source": [
    "class DRRAveStateRepresentation(tf.keras.layers.Layer):\n",
    "    def __init__(self, embedding_dim):\n",
    "        super(DDRAveStateRepresentation, self).__init__()\n",
    "        self.wav = tf.keras.layers.Conv1D(embedding_dim, 1, 1)\n",
    "        \n",
    "    def call(self, user_eb, items_eb):\n",
    "        wav = self.wav(items_eb)\n",
    "        user_wav = tf.keras.layers.multiply([user_eb, wav])\n",
    "        concat = tf.keras.layers.Concatenate([user, user_wav, wav])\n",
    "        return concat"
   ]
  },
  {
   "cell_type": "markdown",
   "metadata": {
    "colab_type": "text",
    "id": "BnGewmmshbCu"
   },
   "source": [
    "# Actor, Critic Module"
   ]
  },
  {
   "cell_type": "code",
   "execution_count": null,
   "metadata": {
    "colab": {},
    "colab_type": "code",
    "id": "r3YYQPNuheGY"
   },
   "outputs": [],
   "source": [
    "class ActorNetwork(tf.keras.Model):\n",
    "    def __init__(self, embedding_dim, hidden_dim):\n",
    "        super(ActorNetwork, self).__init__()\n",
    "        self.srm = DRRAveStateRepresentation(embedding_dim)\n",
    "        self.fc = tf.keras.Sequential([\n",
    "            tf.keras.layers.Dense(hidden_dim, activation='relu'),\n",
    "            tf.keras.layers.Dense(hidden_dim, activation='relu'),\n",
    "            tf.keras.layers.Dense(embedding_dim, activation='tanh')\n",
    "        ])\n",
    "    def call(self, user_eb, items_ebs):\n",
    "        state = self.srm(user_eb, items_ebs)\n",
    "        return self.fc(state), state"
   ]
  },
  {
   "cell_type": "markdown",
   "metadata": {},
   "source": [
    "### Actor를 설정할 때 2가지 방법으로 나뉨\n",
    "\n",
    "1. embedding 포함\n",
    "2. embedding 미포함"
   ]
  },
  {
   "cell_type": "markdown",
   "metadata": {},
   "source": [
    "#### Embedding 포함 \n",
    "\n",
    "state가 사실상 (user_id, items_ids)"
   ]
  },
  {
   "cell_type": "code",
   "execution_count": null,
   "metadata": {},
   "outputs": [],
   "source": [
    "class Actor(object):\n",
    "    \n",
    "    def __init__(self, users_num, items_num, embedding_dim, hidden_dim, learning_rate, tau):\n",
    "        \n",
    "        self.items_num = items_num\n",
    "        \n",
    "        # 임베딩 네트워크\n",
    "        self.embedding_network = Embedding(users_num, items_num, embedding_dim)\n",
    "        # 엑터 네트워크 / 타겟 네트워크\n",
    "        self.network = ActorNetwork(embedding_dim, hidden_dim)\n",
    "        self.target_network = ActorNetwork(embedding_dim, hidden_dim)\n",
    "        # 옵티마이저\n",
    "        self.optimizer = tf.keras.optimizers.Adam(learning_rate)\n",
    "        # 소프트 타겟 네트워크 업데이트 하이퍼파라미터\n",
    "        self.tau = tau\n",
    "        \n",
    "    def get_action(self, weight, items_ids=None):\n",
    "        if items_ids == None:\n",
    "            items_ids = [i for i in range(self.items_num)]\n",
    "        items_ebs = self.embedding_network._get_item_eb(items_ids)\n",
    "        item_idx = np.argmax(tf.keras.backend.dot(items_ebs, weight))\n",
    "        return items_ids[item_idx]\n",
    "    \n",
    "    def update_target_network(self):\n",
    "        # 소프트 타겟 네트워크 업데이트\n",
    "        c_theta, t_theta = self.network.get_weights(), self.target_network.get_weights()\n",
    "        for i in range(len(c_theta)):\n",
    "            t_theta[i] = self.tau * c_theta[i] + (1 - self.tau) * t_theta[i]\n",
    "        self.target_network.set_weights(t_theta)\n",
    "        \n",
    "    def train(self, user_id, items_ids, values, dq_das):\n",
    "        with tf.GradientTape() as g:\n",
    "            user_eb, items_ebs = self.embedding_network(user_id, items_ids)\n",
    "            weight, _ = self.network(user_eb, items_ebs)\n",
    "            obj = np.mean(values * weight, axis=1)\n",
    "        dj_dtheta = g.gradient(obj, self.network.trainable_weights, -dq_das)\n",
    "        grads = zip(dj_dtheta, self.network.trainable_weights)\n",
    "        self.optimizer.apply_gradients(grads)\n",
    "        \n",
    "    def save_weights(self, path):\n",
    "        self.network.save_weights(path)\n",
    "        \n",
    "    def load_weights(self, path):\n",
    "        self.network.load_weights(path)"
   ]
  },
  {
   "cell_type": "code",
   "execution_count": null,
   "metadata": {},
   "outputs": [],
   "source": [
    "class CriticNetwork(tf.keras.Model):\n",
    "    def __init__(self, hidden_dim):\n",
    "        super(CriticNetwork, self).__init__()\n",
    "        self.fc1 = tf.keras.layers.Dense(hidden_dim, activation='relu')\n",
    "        self.concat = tf.keras.layers.Concatenate()\n",
    "        self.fc2 = tf.keras.Sequential([\n",
    "            tf.keras.layers.Dense(hidden_dim, activation = 'relu'),\n",
    "            tf.keras.layers.Dense(1, activation = 'relu')\n",
    "        ])\n",
    "        \n",
    "    def call(self, state, action):\n",
    "        fc1 = self.fc1(state)\n",
    "        concat = self.concat([action, state])\n",
    "        return self.fc2(concat)"
   ]
  },
  {
   "cell_type": "code",
   "execution_count": null,
   "metadata": {
    "colab": {},
    "colab_type": "code",
    "id": "_6Ss5R4XoKii"
   },
   "outputs": [],
   "source": [
    "class Critic(object):\n",
    "    \n",
    "    def __init__(self, hidden_dim, learning_rate, tau):\n",
    "        # 크리틱 네트워크 / 타겟 네트워크\n",
    "        self.network = CriticNetwork(hidden_dim)\n",
    "        self.target_network = CriticNetwork(hidden_dim)\n",
    "        # 네트워크 컴파일\n",
    "        self.network.compile(optimizer=tf.keras.optimizers.Adam(learning_rate=learning_rate),\n",
    "                             loss='mse')\n",
    "        self.target_network.compile(optimizer=tf.keras.optimizers.Adam(learning_rate=learning_rate),\n",
    "                                    loss='mse')\n",
    "        # 소프트 타겟 네트워크 업데이트 하이퍼파라미터\n",
    "        self.tau = tau\n",
    "        \n",
    "    def update_target_network(self):\n",
    "        c_omega = self.network.get_weights()\n",
    "        t_omega = self.target_network.get_weights()\n",
    "        for i in range(len(c_omega)):\n",
    "            t_omega[i] = self.tau * c_omega[i] + (1 - self.tau) * t_omega[i]\n",
    "        self.target_network.set_weights(t_omega)\n",
    "        \n",
    "    def dq_da(self, states, weights):\n",
    "        with tf.GradientTape() as g:\n",
    "            actions = tf.convert_to_tensor(weights)\n",
    "            g.watch(weights)\n",
    "            outputs = self.network(state, weights)\n",
    "        q_grads = g.gradient(outputs, weights)\n",
    "        return q_grads\n",
    "    \n",
    "    def train_on_batch(self, states, weights, td_targets):\n",
    "        self.network.train_on_batch([states, weights], td_targets)\n",
    "            \n",
    "    def save_weights(self, path):\n",
    "        self.network.save_weights(path)\n",
    "        \n",
    "    def load_weights(self, path):\n",
    "        self.network.load_weights(path)"
   ]
  },
  {
   "cell_type": "code",
   "execution_count": null,
   "metadata": {
    "colab": {},
    "colab_type": "code",
    "id": "nE3PBjinMmKZ"
   },
   "outputs": [],
   "source": [
    "class ReplayMemory(object):\n",
    "    def __init__(self, replay_memory_size, state_size):\n",
    "        self.rm_size = replay_memory_size\n",
    "        self.crt_idx = 0\n",
    "        \n",
    "        '''\n",
    "            user_id : (1,), \n",
    "            items_ids : (10,) 변할 수 잇음, \n",
    "            actions : (1,), \n",
    "            rewards : (1,), \n",
    "            next_user_id : (1,), \n",
    "            next_items_ids : (10,), \n",
    "            dones : (1,)\n",
    "        '''\n",
    "    \n",
    "        self.users_ids = np.zeros((replay_memory_size, 1), dtype=np.uint8)\n",
    "        self.items_ids = np.zeros((replay_memory_size, state_size), dtype=np.uint8)\n",
    "        self.actions = np.zeros((replay_memory_size, 1), dtype=np.uint8)\n",
    "        self.rewards = np.zeros((replay_memory_size, 1), dtype=np.uint8)\n",
    "        self.rewards[-1] = 777\n",
    "        self.next_users_ids = np.zeros((replay_memory_size, 1), dtype=np.uint8)\n",
    "        self.next_items_ids = np.zeros((replay_memory_size, state_size), dtype=np.uint8)\n",
    "        self.dones = np.zeros(replay_memory_size, np.bool)\n",
    "\n",
    "    def is_full(self):\n",
    "        return self.rewards[-1] != 777\n",
    "\n",
    "    def append(self, user_id, items_ids, action, rewards, next_user_id, next_items_ids, done):\n",
    "        self.users_ids[self.crt_idx] = user_id\n",
    "        self.items_ids[self.crt_idx] = items_ids\n",
    "        self.actions[self.crt_idx] = action\n",
    "        self.rewards[self.crt_idx] = rewards\n",
    "        self.next_users_ids[self.crt_idx] = next_user_id\n",
    "        self.next_items_ids[self.crt_idx] = next_items_ids\n",
    "        self.dones[self.crt_idx] = done\n",
    "\n",
    "        self.crt_idx = (self.crt_idx + 1) % self.rm_size\n",
    "\n",
    "    def sample(self, batch_size):\n",
    "        rd_idx = np.random.choice((1 - self.is_full())*self.crt_idx+self.is_full()*self.rm_size, batch_size)\n",
    "        batch_users_ids = users_ids[rd_idx]\n",
    "        batch_items_ids = items_ids[rd_idx]\n",
    "        batch_actions = actions[rd_idx]\n",
    "        batch_rewards = rewards[rd_idx]\n",
    "        batch_next_users_ids = next_users_ids[rd_idx]\n",
    "        batch_next_items_ids = next_items_ids[rd_idx]\n",
    "        batch_dones = dones[rd_idx]\n",
    "\n",
    "        return batch_users_ids, batch_items_ids, batch_actions, batch_rewards, batch_next_users_ids, batch_next_items_ids, batch_dones"
   ]
  },
  {
   "cell_type": "code",
   "execution_count": null,
   "metadata": {},
   "outputs": [],
   "source": [
    "class DRRAgent:\n",
    "    \n",
    "    def __init__(self, users_num, items_num):\n",
    "\n",
    "        self.users_num = users_num\n",
    "        self.items_num = items_num\n",
    "        \n",
    "        self.embedding_dim = 16\n",
    "        self.actor_hidden_dim = 32\n",
    "        self.actor_learning_rate = 0.001\n",
    "        self.critic_hidden_dim = 32\n",
    "        self.critic_learning_rate = 0.001\n",
    "        self.discount_factor = 0.9\n",
    "        self.tau = 0.001\n",
    "        \n",
    "        self.actor = Actor(users_num, items_num, self.embedding_dim, self.actor_hidden_dim, self.actor_learning_rate, self.tau)\n",
    "        self.critic = Critic(self.critic_hidden_dim, self.learning_rate, self.tau)\n",
    "        \n",
    "        self.buffer = ReplayMemory(replay_memory_size, state_size)\n",
    "        \n",
    "    def ou_noise(self, x, rho=0.15, mu=0, dt=1e-1, sigma=0.2, dim=1):\n",
    "        return x + rho*(mu - x)*dt + sigma*np.sqrt(dt)*np.random.normal(size=dim)\n",
    "    \n",
    "    def td_target(self, rewards, q_values, dones):\n",
    "        y_t = np.asarray(q_values)\n",
    "        for i in range(q_values.shape[0]):\n",
    "            y_t = rewards[i] + (1 - dones[i])*(self.discount_factor * q_values[i])\n",
    "        return y_t\n",
    "        \n",
    "    def save_model(self, actor_path, critic_path):\n",
    "        self.actor.save_weights(actor_path)\n",
    "        self.critic.save_weights(critic_path)\n",
    "        \n",
    "    def load_model(self, actor_path, critic_path):\n",
    "        self.actor.load_weights(actor_path)\n",
    "        self.critic.load_weights(critic_path)"
   ]
  }
 ],
 "metadata": {
  "colab": {
   "collapsed_sections": [],
   "include_colab_link": true,
   "machine_shape": "hm",
   "name": "RL_ActorCritic_DDPG_Movie_Recommendation.ipynb",
   "provenance": []
  },
  "kernelspec": {
   "display_name": "Python 3",
   "language": "python",
   "name": "python3"
  },
  "language_info": {
   "codemirror_mode": {
    "name": "ipython",
    "version": 3
   },
   "file_extension": ".py",
   "mimetype": "text/x-python",
   "name": "python",
   "nbconvert_exporter": "python",
   "pygments_lexer": "ipython3",
   "version": "3.8.5"
  }
 },
 "nbformat": 4,
 "nbformat_minor": 1
}
